{
 "cells": [
  {
   "cell_type": "code",
   "execution_count": 1,
   "metadata": {},
   "outputs": [],
   "source": [
    "from qiskit_U_1_ancilla import run_circuit"
   ]
  },
  {
   "cell_type": "code",
   "execution_count": 2,
   "metadata": {},
   "outputs": [],
   "source": [
    "import numpy as np\n",
    "import time\n",
    "import matplotlib.pyplot as pl\n",
    "import entanglement"
   ]
  },
  {
   "cell_type": "code",
   "execution_count": 3,
   "metadata": {},
   "outputs": [],
   "source": [
    "def sharpening_entropy(L,depth_ratio,Q,p,samples,n=1,BC='PBC'):\n",
    "    T = depth_ratio*L\n",
    "    ent=[]\n",
    "    for seed in np.arange(1,samples+1,1):\n",
    "        job,outcomes,p_loc = run_circuit(L,T,Q,p,seed=seed,BC=BC)\n",
    "        state = job.result().data()['f']\n",
    "        ent.append(entanglement.renyi_entropy(np.asarray(state),sub_system=[0],renyi_index=n)) # ancilla index is L because in Qiskit the qubit #0 is at the right most end (in qiskit code ancilla is at position 0)\n",
    "    return job,ent"
   ]
  },
  {
   "cell_type": "code",
   "execution_count": 4,
   "metadata": {},
   "outputs": [],
   "source": [
    "job,ent = sharpening_entropy(8,depth_ratio=1,Q=4,p=0.4,samples=100,n=2,BC='PBC')\n"
   ]
  },
  {
   "cell_type": "code",
   "execution_count": 5,
   "metadata": {},
   "outputs": [
    {
     "data": {
      "text/plain": [
       "-3.0752894436623194e-16"
      ]
     },
     "execution_count": 5,
     "metadata": {},
     "output_type": "execute_result"
    }
   ],
   "source": [
    "np.average(ent)"
   ]
  },
  {
   "cell_type": "code",
   "execution_count": null,
   "metadata": {},
   "outputs": [],
   "source": []
  }
 ],
 "metadata": {
  "kernelspec": {
   "display_name": "Python 3.9.13 ('base')",
   "language": "python",
   "name": "python3"
  },
  "language_info": {
   "codemirror_mode": {
    "name": "ipython",
    "version": 3
   },
   "file_extension": ".py",
   "mimetype": "text/x-python",
   "name": "python",
   "nbconvert_exporter": "python",
   "pygments_lexer": "ipython3",
   "version": "3.9.13"
  },
  "orig_nbformat": 4,
  "vscode": {
   "interpreter": {
    "hash": "46d4d6e35a705a453addec98352089b1c875d6193677971858623155cb10eb88"
   }
  }
 },
 "nbformat": 4,
 "nbformat_minor": 2
}

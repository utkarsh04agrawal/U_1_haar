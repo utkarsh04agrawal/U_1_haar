{
 "cells": [
  {
   "cell_type": "code",
   "execution_count": 144,
   "metadata": {},
   "outputs": [],
   "source": [
    "import numpy as np\n",
    "import os, shutil\n",
    "%matplotlib qt\n",
    "import matplotlib.pyplot as pl\n",
    "import pickle\n",
    "import time"
   ]
  },
  {
   "cell_type": "code",
   "execution_count": 145,
   "metadata": {},
   "outputs": [
    {
     "name": "stdout",
     "output_type": "stream",
     "text": [
      "The autoreload extension is already loaded. To reload it, use:\n",
      "  %reload_ext autoreload\n"
     ]
    }
   ],
   "source": [
    "%load_ext autoreload\n",
    "%autoreload 2"
   ]
  },
  {
   "cell_type": "code",
   "execution_count": 146,
   "metadata": {},
   "outputs": [],
   "source": [
    "from evolution_utils import evenlayer, oddlayer, weak_measurement_layer, state_correlation, state_entropy, scramble\n",
    "import unitary_sampler"
   ]
  },
  {
   "cell_type": "code",
   "execution_count": 147,
   "metadata": {},
   "outputs": [],
   "source": [
    "# Don't change these\n",
    "L_max = 60\n",
    "T_max = 300"
   ]
  },
  {
   "cell_type": "code",
   "execution_count": 148,
   "metadata": {},
   "outputs": [
    {
     "data": {
      "text/plain": [
       "[4, 5]"
      ]
     },
     "execution_count": 148,
     "metadata": {},
     "output_type": "execute_result"
    }
   ],
   "source": [
    "list(range(4,6,1))"
   ]
  },
  {
   "cell_type": "code",
   "execution_count": 149,
   "metadata": {},
   "outputs": [],
   "source": [
    "def get_data_ancilla(state,L,L_A,T,t_scr,theta,evolution_type,scrambling_type,seed_scram,seed_unitary,seed_outcomes,BC='PBC'):\n",
    "    assert scrambling_type in ['haar','matchgate'], print('scrambling_type can only be either \\'haar\\' or \\'matchgate\\'')\n",
    "    assert evolution_type in ['haar','matchgate'], print('evolution_type can only be either \\'haar\\' or \\'matchgate\\'')\n",
    "\n",
    "    assert T<T_max\n",
    "\n",
    "    state = scramble(state,L,t_scr,seed_scram=seed_scram,which_U=scrambling_type)\n",
    "\n",
    "    unitary_gates = unitary_sampler.get_U_1_unitary_circuit(seed_unitary=seed_unitary,number_of_gates=int(L_max*T_max),which_U=evolution_type)\n",
    "    \n",
    "    cache = {}\n",
    "\n",
    "    outcome_rng = np.random.default_rng(seed=seed_outcomes)\n",
    "    total_N_m = 0\n",
    "\n",
    "    entropy_data = []\n",
    "    correlation_data = []\n",
    "    ancilla_interval = list(range(L,L+L_A))\n",
    "    for t in range(T):\n",
    "        if t%2 == 0:\n",
    "            state = evenlayer(state,unitary_gates[L_max*t: L_max*t + L//2],L=L)\n",
    "        else:\n",
    "            state = oddlayer(state,unitary_gates[L_max*t: L_max*t + L//2],L=L,BC=BC)\n",
    "        \n",
    "        m_locations = list(range(L)) # locations of weak measurement\n",
    "        total_N_m += L\n",
    "        state = weak_measurement_layer(state,theta,L,rng_outcome=outcome_rng,m_locations=m_locations)\n",
    "\n",
    "        entropy_data.append(state_entropy(state,interval=ancilla_interval,renyi_index=1))\n",
    "        correlation_data.append(state_correlation(state,L))\n",
    "    \n",
    "    cache['total_N_m'] = total_N_m\n",
    "    cache['m_locations'] = m_locations\n",
    "    \n",
    "    return state, entropy_data, correlation_data, cache"
   ]
  },
  {
   "cell_type": "code",
   "execution_count": 275,
   "metadata": {},
   "outputs": [],
   "source": [
    "def get_filename(t_scr,evolution_U_type,scram_U_type,root_direc):\n",
    "    file_dir = root_direc\n",
    "\n",
    "    if t_scr==0:\n",
    "        file_dir = file_dir + 'without_scrambling' \n",
    "    else:\n",
    "        if scram_U_type == 'haar':\n",
    "            file_dir = file_dir + 'haar_scrambling' \n",
    "        elif scram_U_type == 'matchgate':\n",
    "            file_dir = file_dir + 'matchgate_scrambling' \n",
    "    if evolution_U_type == 'haar':\n",
    "        file_dir = file_dir + '/haar_evolution'\n",
    "    if evolution_U_type == 'matchgate':\n",
    "        file_dir = file_dir + '/matchgate_evolution'\n",
    "    if not os.path.isdir(file_dir):\n",
    "        os.makedirs(file_dir)\n",
    "\n",
    "    return file_dir"
   ]
  },
  {
   "cell_type": "code",
   "execution_count": 231,
   "metadata": {},
   "outputs": [
    {
     "name": "stdout",
     "output_type": "stream",
     "text": [
      "L=6, theta=0.1, time=32.38157606124878\n",
      "L=8, theta=0.1, time=38.43791389465332\n",
      "L=10, theta=0.1, time=1018.4537472724915\n",
      "L=12, theta=0.1, time=6972.636835098267\n",
      "L=14, theta=0.1, time=21410.49255490303\n",
      "L=6, theta=0.2, time=928.8766100406647\n",
      "L=8, theta=0.2, time=2012.887601852417\n",
      "L=10, theta=0.2, time=1536.8037598133087\n",
      "L=12, theta=0.2, time=3323.0531599521637\n",
      "L=14, theta=0.2, time=722.3337407112122\n",
      "L=6, theta=0.3, time=29.74330496788025\n",
      "L=8, theta=0.3, time=32.72073006629944\n",
      "L=10, theta=0.3, time=42.84312129020691\n",
      "L=12, theta=0.3, time=85.74325394630432\n",
      "L=14, theta=0.3, time=347.8409478664398\n",
      "L=6, theta=0.4, time=28.47870898246765\n",
      "L=8, theta=0.4, time=31.92964506149292\n",
      "L=10, theta=0.4, time=41.7631630897522\n",
      "L=12, theta=0.4, time=84.08234214782715\n",
      "L=14, theta=0.4, time=326.0016713142395\n",
      "L=6, theta=0.5, time=28.301448106765747\n",
      "L=8, theta=0.5, time=31.52537703514099\n",
      "L=10, theta=0.5, time=41.82712388038635\n",
      "L=12, theta=0.5, time=83.85689115524292\n",
      "L=14, theta=0.5, time=314.69184017181396\n",
      "L=6, theta=0.6, time=28.232752084732056\n",
      "L=8, theta=0.6, time=31.434223651885986\n",
      "L=10, theta=0.6, time=42.245002031326294\n",
      "L=12, theta=0.6, time=82.33063817024231\n",
      "L=14, theta=0.6, time=311.87358927726746\n",
      "L=6, theta=0.7, time=28.25306010246277\n",
      "L=8, theta=0.7, time=31.53069829940796\n",
      "L=10, theta=0.7, time=41.85838317871094\n",
      "L=12, theta=0.7, time=542.1213111877441\n",
      "L=14, theta=0.7, time=1873.6835107803345\n",
      "L=6, theta=0.8, time=29.251664876937866\n",
      "L=8, theta=0.8, time=33.009520292282104\n",
      "L=10, theta=0.8, time=42.56421995162964\n",
      "L=12, theta=0.8, time=83.65410089492798\n",
      "L=14, theta=0.8, time=335.6191780567169\n"
     ]
    }
   ],
   "source": [
    "# Fixed parameters\n",
    "L_A = 1\n",
    "theta_list = np.linspace(0.1,0.8,8)\n",
    "initial_state = False\n",
    "scram_depth = 1\n",
    "depth = 2\n",
    "scrambling_type = 'matchgate'\n",
    "evolution_type = 'matchgate'\n",
    "root_direc = 'data_weak_measurement/'\n",
    "seed_unitary = 1\n",
    "seed_scrambling = 1000*seed_unitary\n",
    "shots = 300\n",
    "BC = 'PBC'\n",
    "\n",
    "for theta in theta_list:\n",
    "    theta = np.round(theta,3)\n",
    "    for L in [6,8,10,12,14][:]:\n",
    "        start = time.time()\n",
    "        entropy_data = []\n",
    "        correlation_data = []\n",
    "        for _ in range(shots):\n",
    "            \n",
    "            #define parameters\n",
    "            if initial_state is False:\n",
    "                state = np.zeros((2,)*(L+L_A))\n",
    "                index_state_0 = (1,0)*(L//2) + (0,)\n",
    "                index_state_1 = (1,0)*(L//2 - 1) + (0,1,1)\n",
    "                state[index_state_0] = 1/2**0.5\n",
    "                state[index_state_1] = 1/2**0.5 \n",
    "            t_scr = int(scram_depth*L)\n",
    "            T = 4*L\n",
    "\n",
    "            # get data\n",
    "            seed_outcome = np.random.randint(0,1000000000,1)\n",
    "            state,entropy,correlation,_ = get_data_ancilla(state,L,L_A,T,t_scr,theta*np.pi/2,scrambling_type=scrambling_type,evolution_type=evolution_type,seed_unitary=seed_unitary,seed_scram=seed_scrambling,seed_outcomes=seed_outcome,BC=BC)\n",
    "            entropy_data.append(entropy)\n",
    "            correlation_data.append(correlation)\n",
    "            \n",
    "        data = {'entropy':entropy_data,\n",
    "                'correlation':correlation_data,\n",
    "                'seed_outcome': seed_outcome,\n",
    "                'seed_unitary':seed_unitary,\n",
    "                'seed_scrambling':seed_scrambling}\n",
    "                          \n",
    "        #save data\n",
    "        file_dir = get_filename(t_scr=t_scr,scram_U_type=scrambling_type,evolution_U_type=evolution_type,root_direc=root_direc)\n",
    "        file_dir = file_dir + '/L='+str(L)\n",
    "        file_dir = file_dir+'/T='+str(T)+'_tscr='+str(t_scr)+'_theta='+str(theta)+'_BC='+BC\n",
    "        if os.path.isdir(file_dir):\n",
    "            shutil.rmtree(file_dir)\n",
    "        if not os.path.isdir(file_dir):\n",
    "            os.makedirs(file_dir)\n",
    "            \n",
    "        filename = file_dir+'/shots='+str(shots)+'_'+str(np.random.randint(0,1000000000,1))\n",
    "        \n",
    "        with open(filename,'wb') as f:\n",
    "            pickle.dump(data,f)\n",
    "        \n",
    "        print(\"L={}, theta={}, time={}\".format(L,theta,time.time()-start))"
   ]
  },
  {
   "cell_type": "code",
   "execution_count": 271,
   "metadata": {},
   "outputs": [],
   "source": [
    "scrambling_type = 'haar'\n",
    "evolution_type = 'haar'\n",
    "def read_entropy(L,T,t_scr,theta,BC):\n",
    "    file_dir = get_filename(t_scr=t_scr,scram_U_type=scrambling_type,evolution_U_type=evolution_type,root_direc=root_direc)\n",
    "    file_dir = file_dir + '/L='+str(L)\n",
    "    file_dir = file_dir+'/T='+str(T)+'_tscr='+str(t_scr)+'_theta='+str(theta)+'_BC='+BC\n",
    "    for filename in os.listdir(file_dir):\n",
    "        with open(file_dir + '/' + filename,'rb') as f:\n",
    "            data = pickle.load(f)\n",
    "        entropy_list = data['entropy']\n",
    "        entropy = np.array(entropy_list)\n",
    "    return entropy"
   ]
  },
  {
   "cell_type": "code",
   "execution_count": 274,
   "metadata": {},
   "outputs": [
    {
     "data": {
      "text/plain": [
       "<matplotlib.legend.Legend at 0x2ad2b92e0>"
      ]
     },
     "execution_count": 274,
     "metadata": {},
     "output_type": "execute_result"
    }
   ],
   "source": [
    "def get_slope(xdata,ydata):\n",
    "    zz = np.polyfit(xdata,ydata,1,full=True)\n",
    "    p = np.poly1d(zz[0])\n",
    "    return zz[0], p\n",
    "\n",
    "slope = []\n",
    "L_list = [6,8,10,12,14]\n",
    "for L in [6,8,10,12,14][1:]:\n",
    "    T = 4*L\n",
    "    t_scr = L\n",
    "    theta = 0.4\n",
    "    entropy = read_entropy(L,T,t_scr,theta,BC=BC)\n",
    "    ydata = np.average(entropy,axis=0)\n",
    "    err = np.std(entropy,axis=0)/(entropy.shape[0]-1)**0.5\n",
    "    xdata = np.arange(0,T,1)\n",
    "    zz,p = get_slope(xdata[L:],np.log(ydata[L:,0]))\n",
    "    slope.append(-zz[0])\n",
    "    # print(entropy[-1])\n",
    "    pl.errorbar(xdata[:]/L,ydata[:,0],yerr=err[:,0],ls='-',marker='o',label='L={}'.format(L))\n",
    "    pl.plot(xdata[:]/L,np.exp(p(np.array(xdata))),'k',ls=':')\n",
    "\n",
    "pl.legend()"
   ]
  },
  {
   "cell_type": "code",
   "execution_count": 261,
   "metadata": {},
   "outputs": [
    {
     "data": {
      "text/plain": [
       "[<matplotlib.lines.Line2D at 0x2ad6efac0>]"
      ]
     },
     "execution_count": 261,
     "metadata": {},
     "output_type": "execute_result"
    }
   ],
   "source": [
    "pl.plot(L_list[1:],slope,'-o')"
   ]
  },
  {
   "cell_type": "code",
   "execution_count": null,
   "metadata": {},
   "outputs": [],
   "source": []
  }
 ],
 "metadata": {
  "kernelspec": {
   "display_name": "Python 3.9.13 ('base')",
   "language": "python",
   "name": "python3"
  },
  "language_info": {
   "codemirror_mode": {
    "name": "ipython",
    "version": 3
   },
   "file_extension": ".py",
   "mimetype": "text/x-python",
   "name": "python",
   "nbconvert_exporter": "python",
   "pygments_lexer": "ipython3",
   "version": "3.9.13"
  },
  "orig_nbformat": 4,
  "vscode": {
   "interpreter": {
    "hash": "46d4d6e35a705a453addec98352089b1c875d6193677971858623155cb10eb88"
   }
  }
 },
 "nbformat": 4,
 "nbformat_minor": 2
}

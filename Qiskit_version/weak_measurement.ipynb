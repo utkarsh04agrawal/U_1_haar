{
 "cells": [
  {
   "cell_type": "code",
   "execution_count": 1,
   "metadata": {},
   "outputs": [],
   "source": [
    "import numpy as np\n",
    "import os\n",
    "%matplotlib qt\n",
    "import matplotlib.pyplot as pl\n",
    "import pickle\n",
    "import qiskit\n",
    "from qiskit import Aer\n",
    "import time"
   ]
  },
  {
   "cell_type": "code",
   "execution_count": 2,
   "metadata": {},
   "outputs": [],
   "source": [
    "%load_ext autoreload\n",
    "%autoreload 2"
   ]
  },
  {
   "cell_type": "code",
   "execution_count": 3,
   "metadata": {},
   "outputs": [
    {
     "ename": "ModuleNotFoundError",
     "evalue": "No module named 'unitary_sampler'",
     "output_type": "error",
     "traceback": [
      "\u001b[0;31m---------------------------------------------------------------------------\u001b[0m",
      "\u001b[0;31mModuleNotFoundError\u001b[0m                       Traceback (most recent call last)",
      "\u001b[1;32m/Users/utkarshagrawal/Documents/Postdoc/U_1_haar/Qiskit_version/weak_measurement.ipynb Cell 3\u001b[0m in \u001b[0;36m<cell line: 1>\u001b[0;34m()\u001b[0m\n\u001b[0;32m----> <a href='vscode-notebook-cell:/Users/utkarshagrawal/Documents/Postdoc/U_1_haar/Qiskit_version/weak_measurement.ipynb#W2sZmlsZQ%3D%3D?line=0'>1</a>\u001b[0m \u001b[39mimport\u001b[39;00m \u001b[39mqiskit_U_1_weak_measurements\u001b[39;00m\n\u001b[1;32m      <a href='vscode-notebook-cell:/Users/utkarshagrawal/Documents/Postdoc/U_1_haar/Qiskit_version/weak_measurement.ipynb#W2sZmlsZQ%3D%3D?line=1'>2</a>\u001b[0m \u001b[39mimport\u001b[39;00m \u001b[39mqiskit_evolution_utils\u001b[39;00m\n",
      "File \u001b[0;32m~/Documents/Postdoc/U_1_haar/Qiskit_version/qiskit_U_1_weak_measurements.py:8\u001b[0m, in \u001b[0;36m<module>\u001b[0;34m\u001b[0m\n\u001b[1;32m      6\u001b[0m \u001b[39mimport\u001b[39;00m \u001b[39mmatplotlib\u001b[39;00m\u001b[39m.\u001b[39;00m\u001b[39mpyplot\u001b[39;00m \u001b[39mas\u001b[39;00m \u001b[39mpl\u001b[39;00m\n\u001b[1;32m      7\u001b[0m \u001b[39mimport\u001b[39;00m \u001b[39mimportlib\u001b[39;00m\n\u001b[0;32m----> 8\u001b[0m \u001b[39mimport\u001b[39;00m \u001b[39munitary_sampler\u001b[39;00m\n\u001b[1;32m      9\u001b[0m \u001b[39mimport\u001b[39;00m \u001b[39mentanglement\u001b[39;00m\n\u001b[1;32m     10\u001b[0m \u001b[39mimport\u001b[39;00m \u001b[39mU_1_entanglement\u001b[39;00m\n",
      "\u001b[0;31mModuleNotFoundError\u001b[0m: No module named 'unitary_sampler'"
     ]
    }
   ],
   "source": [
    "import qiskit_U_1_weak_measurements\n",
    "import qiskit_evolution_utils"
   ]
  },
  {
   "cell_type": "code",
   "execution_count": 5,
   "metadata": {},
   "outputs": [],
   "source": [
    "aa = np.arange(0,32,1).reshape((2,)*5)"
   ]
  },
  {
   "cell_type": "code",
   "execution_count": 18,
   "metadata": {},
   "outputs": [
    {
     "name": "stderr",
     "output_type": "stream",
     "text": [
      "/var/folders/tm/g65yh1_d5f3gkpxmzywryqwc0000gn/T/ipykernel_69708/3194705934.py:2: FutureWarning: Using a non-tuple sequence for multidimensional indexing is deprecated; use `arr[tuple(seq)]` instead of `arr[seq]`. In the future this will be interpreted as an array index, `arr[np.array(seq)]`, which will result either in an error or a different result.\n",
      "  bb[[(1,0,0),(2,0,0)]]\n"
     ]
    },
    {
     "data": {
      "text/plain": [
       "array([[12, 13],\n",
       "       [ 0,  1],\n",
       "       [ 0,  1]])"
      ]
     },
     "execution_count": 18,
     "metadata": {},
     "output_type": "execute_result"
    }
   ],
   "source": [
    "bb = aa.reshape((4,4,2))\n",
    "bb[[(1,0,0),(2,0,0)]]"
   ]
  },
  {
   "cell_type": "code",
   "execution_count": 351,
   "metadata": {},
   "outputs": [],
   "source": [
    "## Get samples\n",
    "def get_samples(circ,m_locs,L,T,shots=100):\n",
    "    results = []\n",
    "    measurement_data = []\n",
    "    entropy_data = []\n",
    "    correlation_data = []\n",
    "    for s in range(shots):\n",
    "        # start = time.time()\n",
    "        job, measurement_array, _ = qiskit_U_1_weak_measurements.simulate_weak_circuit_ancilla(circ,m_locs=m_locs,L=L,T=T,shots=shots)\n",
    "        results.append(job.result())\n",
    "        \n",
    "        measurement_data.append(measurement_array)\n",
    "        # print(\"shot_index \", s)\n",
    "        # print(\"simulation time \", time.time()-start)\n",
    "        start = time.time()\n",
    "        entropy_data.append(qiskit_evolution_utils.job_entropy(job,[0],renyi_index=1))\n",
    "        # print(\"entropy calculation time \", time.time()-start)\n",
    "\n",
    "        # print(entropy_data)\n",
    "        # start = time.time()\n",
    "        physical_indices = list((range(L,0,-1)))\n",
    "        correlation_data.append(qiskit_evolution_utils.job_correlation(job,L,physical_indices=physical_indices))\n",
    "        # print(\"correlation calculation time \", time.time()-start)\n",
    "\n",
    "    return measurement_data, entropy_data, correlation_data\n",
    "\n",
    "\n"
   ]
  },
  {
   "cell_type": "code",
   "execution_count": 352,
   "metadata": {},
   "outputs": [],
   "source": [
    "def get_filename(L,T,t_scr,theta,seed,evolution_U_type,scram_U_type,BC,root_direc):\n",
    "    file_dir = root_direc\n",
    "\n",
    "    if t_scr==0:\n",
    "        file_dir = file_dir + 'without_scrambling' \n",
    "    else:\n",
    "        if scram_U_type == 'haar':\n",
    "            file_dir = file_dir + 'haar_scrambling' \n",
    "        elif scram_U_type == 'matchgate':\n",
    "            file_dir = file_dir + 'matchgate_scrambling' \n",
    "    if evolution_U_type == 'haar':\n",
    "        file_dir = file_dir + '/haar_evolution'\n",
    "    if evolution_U_type == 'matchgate':\n",
    "        file_dir = file_dir + '/matchgate_evolution'\n",
    "    file_dir = file_dir + '/L='+str(L)\n",
    "    if not os.path.isdir(file_dir):\n",
    "        os.makedirs(file_dir)\n",
    "    filename = file_dir+'/T='+str(T)+'_tscr='+str(t_scr)+'_theta='+str(theta)+'_seed='+str(seed)+'_BC='+BC\n",
    "\n",
    "    return filename\n",
    "\n",
    "def load_circuit(L,T,t_scr,theta,seed,BC,scram_U_type='haar',evolution_U_type='haar',re_compile=False):\n",
    "\n",
    "    assert scram_U_type in ['haar','matchgate'], print('scram_U_type can only be either \\'haar\\' or \\'matchgate\\'')\n",
    "    assert evolution_U_type in ['haar','matchgate'], print('evolution_U_type can only be either \\'haar\\' or \\'matchgate\\'')\n",
    "\n",
    "\n",
    "    backend = Aer.get_backend('aer_simulator')\n",
    "    root_dirc = 'data/circuit_data/'\n",
    "    filename = get_filename(L=L,T=T,t_scr=t_scr,theta=theta,BC=BC,seed=seed,scram_U_type=scram_U_type,evolution_U_type=evolution_U_type,root_direc=root_dirc)\n",
    "\n",
    "    if os.path.isfile(filename) and re_compile == False:\n",
    "        with open(filename,'rb') as f:\n",
    "            circ, p_locations, total_N_m = pickle.load(f)\n",
    "    else:\n",
    "        circ, p_locations, total_N_m  = qiskit_U_1_weak_measurements.get_weak_circuit_ancilla(L=L,T=T,theta=theta,t_scr=t_scr,seed_unitary=seed,BC=BC,scram_U_type=scram_U_type,evolution_U_type=evolution_U_type) # total_N_m is total # of measurements performed\n",
    "        circ = qiskit.transpile(circ,backend=backend)\n",
    "        with open(filename,'wb') as f:\n",
    "            pickle.dump((circ,p_locations,total_N_m),f)\n",
    "    \n",
    "    return circ, p_locations, total_N_m\n"
   ]
  },
  {
   "cell_type": "code",
   "execution_count": 22,
   "metadata": {},
   "outputs": [
    {
     "data": {
      "text/plain": [
       "array([0, 2, 3, 4, 5, 6, 7])"
      ]
     },
     "execution_count": 22,
     "metadata": {},
     "output_type": "execute_result"
    }
   ],
   "source": [
    "np.where(np.random.uniform(0,1,10)<0.8)[0]"
   ]
  },
  {
   "cell_type": "code",
   "execution_count": 354,
   "metadata": {},
   "outputs": [
    {
     "name": "stdout",
     "output_type": "stream",
     "text": [
      "L=6, theta=0.157, time=26.008237838745117\n",
      "L=8, theta=0.157, time=73.55665016174316\n",
      "L=10, theta=0.157, time=286.50026988983154\n",
      "L=12, theta=0.157, time=1418.768061876297\n",
      "L=6, theta=0.244, time=25.443893909454346\n",
      "L=8, theta=0.244, time=71.69050288200378\n",
      "L=10, theta=0.244, time=282.96602988243103\n",
      "L=12, theta=0.244, time=1400.6072850227356\n",
      "L=6, theta=0.332, time=24.941197872161865\n",
      "L=8, theta=0.332, time=71.37021803855896\n",
      "L=10, theta=0.332, time=281.2730219364166\n",
      "L=12, theta=0.332, time=1407.7824590206146\n",
      "L=6, theta=0.419, time=25.307976007461548\n",
      "L=8, theta=0.419, time=71.50643301010132\n",
      "L=10, theta=0.419, time=282.4602198600769\n",
      "L=12, theta=0.419, time=1412.4422509670258\n",
      "L=6, theta=0.506, time=25.364228010177612\n",
      "L=8, theta=0.506, time=72.25331711769104\n",
      "L=10, theta=0.506, time=281.4782190322876\n",
      "L=12, theta=0.506, time=1404.4518899917603\n",
      "L=6, theta=0.593, time=25.262434244155884\n",
      "L=8, theta=0.593, time=71.79574990272522\n",
      "L=10, theta=0.593, time=284.7586181163788\n",
      "L=12, theta=0.593, time=1408.6647081375122\n",
      "L=6, theta=0.681, time=25.031641960144043\n",
      "L=8, theta=0.681, time=70.94543790817261\n",
      "L=10, theta=0.681, time=280.0806782245636\n",
      "L=12, theta=0.681, time=2509.9758648872375\n",
      "L=6, theta=0.768, time=25.39717698097229\n",
      "L=8, theta=0.768, time=917.6000699996948\n",
      "L=10, theta=0.768, time=10886.477749109268\n",
      "L=12, theta=0.768, time=4453.704098939896\n",
      "L=6, theta=0.855, time=25.28252601623535\n",
      "L=8, theta=0.855, time=71.29392218589783\n",
      "L=10, theta=0.855, time=283.3780720233917\n",
      "L=12, theta=0.855, time=1407.58411693573\n",
      "L=6, theta=0.942, time=25.455060958862305\n",
      "L=8, theta=0.942, time=71.71943688392639\n",
      "L=10, theta=0.942, time=283.46532702445984\n",
      "L=12, theta=0.942, time=1412.3986570835114\n"
     ]
    }
   ],
   "source": [
    "L_list = [6,8,10,12]\n",
    "shots=100\n",
    "theta_list = np.linspace(0.1,0.6,10)*np.pi/2\n",
    "\n",
    "root_direc = 'data/simulated_data/'\n",
    "\n",
    "for theta in theta_list:\n",
    "    for L in L_list:\n",
    "        #define parameters\n",
    "        start = time.time()\n",
    "        T=2*L\n",
    "        t_scr = L\n",
    "        theta = np.round(theta,3)\n",
    "        scram_U_type = 'haar'\n",
    "        evolution_U_type = 'haar'\n",
    "        seed=1\n",
    "        BC='PBC'\n",
    "        \n",
    "        #get data\n",
    "        circ, m_locs, _ = load_circuit(L=L,T=T,t_scr=t_scr,theta=theta,seed=seed,BC=BC,scram_U_type=scram_U_type,evolution_U_type=evolution_U_type,re_compile=False)\n",
    "        measurement_data, entropy_data, correlation_data = get_samples(circ,m_locs=m_locs,L=L,T=T,shots=shots)\n",
    "\n",
    "        #save data\n",
    "        file_dir = get_filename(L=L,T=T,t_scr=t_scr,theta=theta,BC=BC,seed=seed,scram_U_type=scram_U_type,evolution_U_type=evolution_U_type,root_direc=root_direc)\n",
    "        if not os.path.isdir(file_dir):\n",
    "            os.makedirs(file_dir)\n",
    "        filename = file_dir+'/shots='+str(shots)+'_'+str(np.random.randint(0,1000000000,1))\n",
    "        with open(filename,'wb') as f:\n",
    "            pickle.dump((measurement_data,entropy_data,correlation_data),f)\n",
    "        \n",
    "        print(\"L={}, theta={}, time={}\".format(L,theta,time.time()-start))\n",
    "\n"
   ]
  },
  {
   "cell_type": "code",
   "execution_count": 344,
   "metadata": {},
   "outputs": [
    {
     "name": "stdout",
     "output_type": "stream",
     "text": [
      "a=1,b=2,c=0\n"
     ]
    }
   ],
   "source": [
    "print('a={},b={},c={}'.format(1,2,3-3))"
   ]
  },
  {
   "cell_type": "code",
   "execution_count": 326,
   "metadata": {},
   "outputs": [
    {
     "ename": "IndexError",
     "evalue": "index 6 is out of bounds for axis 3 with size 6",
     "output_type": "error",
     "traceback": [
      "\u001b[0;31m---------------------------------------------------------------------------\u001b[0m",
      "\u001b[0;31mIndexError\u001b[0m                                Traceback (most recent call last)",
      "\u001b[1;32m/Users/utkarshagrawal/Documents/Postdoc/U_1_haar/weak_measurement.ipynb Cell 10\u001b[0m in \u001b[0;36m<cell line: 1>\u001b[0;34m()\u001b[0m\n\u001b[0;32m----> <a href='vscode-notebook-cell:/Users/utkarshagrawal/Documents/Postdoc/U_1_haar/weak_measurement.ipynb#X23sZmlsZQ%3D%3D?line=0'>1</a>\u001b[0m [pl\u001b[39m.\u001b[39mplot(\u001b[39mrange\u001b[39m(\u001b[39m14\u001b[39m),np\u001b[39m.\u001b[39maverage(np\u001b[39m.\u001b[39;49marray(correlation_data)[:,:,\u001b[39m0\u001b[39;49m,\u001b[39m6\u001b[39;49m],axis\u001b[39m=\u001b[39m\u001b[39m0\u001b[39m))]\n",
      "\u001b[0;31mIndexError\u001b[0m: index 6 is out of bounds for axis 3 with size 6"
     ]
    }
   ],
   "source": [
    "[pl.plot(range(14),np.average(np.array(correlation_data)[:,:,0,6],axis=0))]"
   ]
  },
  {
   "cell_type": "code",
   "execution_count": 329,
   "metadata": {},
   "outputs": [
    {
     "data": {
      "text/plain": [
       "[<matplotlib.lines.Line2D at 0x2bf3e9eb0>]"
      ]
     },
     "execution_count": 329,
     "metadata": {},
     "output_type": "execute_result"
    }
   ],
   "source": [
    "pl.plot(range(13),np.average(np.array(entropy_data),axis=0))"
   ]
  },
  {
   "cell_type": "code",
   "execution_count": 90,
   "metadata": {},
   "outputs": [],
   "source": [
    "test = np.array([0.        +0.j,         0.65128847-0.27536035j, 0.        +0.j,\n",
    " 0.        +0.j,         0.        +0.j,         0.        +0.j,\n",
    " 0.65128847-0.27536035j, 0.        +0.j ]       )"
   ]
  },
  {
   "cell_type": "code",
   "execution_count": 91,
   "metadata": {},
   "outputs": [],
   "source": [
    "import entanglement"
   ]
  },
  {
   "cell_type": "code",
   "execution_count": 94,
   "metadata": {},
   "outputs": [
    {
     "data": {
      "text/plain": [
       "1.0000000374693105"
      ]
     },
     "execution_count": 94,
     "metadata": {},
     "output_type": "execute_result"
    }
   ],
   "source": [
    "entanglement.renyi_entropy(test,list([0]),2)"
   ]
  },
  {
   "cell_type": "code",
   "execution_count": 308,
   "metadata": {},
   "outputs": [
    {
     "data": {
      "text/plain": [
       "array([0, 1, 1, 1, 0, 0, 1, 1, 0, 0, 1, 0, 0, 1, 0, 0, 1, 1, 0, 0, 1, 1,\n",
       "       1, 1, 1, 0, 0, 1, 0, 0, 0, 0, 1, 0, 0, 0, 1, 0, 1, 0, 0, 1, 0, 0,\n",
       "       0, 0, 0, 1, 1, 1, 0, 1, 0, 1, 1, 0, 1, 0, 0, 1, 0, 1, 0, 0, 0, 1,\n",
       "       0, 1, 0, 1, 1, 1, 0, 0, 1, 1, 1, 0, 0, 0, 0, 1, 1, 1, 0, 1, 1, 0,\n",
       "       0, 1, 1, 1, 1, 1, 1, 1, 0, 0, 1, 1])"
      ]
     },
     "execution_count": 308,
     "metadata": {},
     "output_type": "execute_result"
    }
   ],
   "source": [
    "rng = np.random.default_rng(seed=1)\n",
    "rng.integers(0,2,100)"
   ]
  },
  {
   "cell_type": "code",
   "execution_count": 335,
   "metadata": {},
   "outputs": [
    {
     "data": {
      "text/plain": [
       "array([317184224, 323746653, 187050997, 424350720, 317085455, 360384100,\n",
       "       910904913, 977971013, 805359095, 973830962])"
      ]
     },
     "execution_count": 335,
     "metadata": {},
     "output_type": "execute_result"
    }
   ],
   "source": [
    "np.random.randint(0,1000000000,10)"
   ]
  },
  {
   "cell_type": "code",
   "execution_count": 171,
   "metadata": {},
   "outputs": [
    {
     "data": {
      "text/plain": [
       "<function time.time>"
      ]
     },
     "execution_count": 171,
     "metadata": {},
     "output_type": "execute_result"
    }
   ],
   "source": [
    "import time\n",
    "time.time"
   ]
  },
  {
   "cell_type": "code",
   "execution_count": 256,
   "metadata": {},
   "outputs": [
    {
     "data": {
      "text/plain": [
       "30"
      ]
     },
     "execution_count": 256,
     "metadata": {},
     "output_type": "execute_result"
    }
   ],
   "source": [
    "from functools import reduce\n",
    "reduce((lambda x,y:x*y),(2,3,5))"
   ]
  },
  {
   "cell_type": "code",
   "execution_count": 262,
   "metadata": {},
   "outputs": [
    {
     "ename": "TypeError",
     "evalue": "<lambda>() takes 1 positional argument but 2 were given",
     "output_type": "error",
     "traceback": [
      "\u001b[0;31m---------------------------------------------------------------------------\u001b[0m",
      "\u001b[0;31mTypeError\u001b[0m                                 Traceback (most recent call last)",
      "\u001b[1;32m/Users/utkarshagrawal/Documents/Postdoc/U_1_haar/weak_measurement.ipynb Cell 19\u001b[0m in \u001b[0;36m<cell line: 1>\u001b[0;34m()\u001b[0m\n\u001b[0;32m----> <a href='vscode-notebook-cell:/Users/utkarshagrawal/Documents/Postdoc/U_1_haar/weak_measurement.ipynb#X24sZmlsZQ%3D%3D?line=0'>1</a>\u001b[0m reduce((\u001b[39mlambda\u001b[39;49;00m x:x),(\u001b[39m2\u001b[39;49m,\u001b[39m3\u001b[39;49m,\u001b[39m4\u001b[39;49m))\n",
      "\u001b[0;31mTypeError\u001b[0m: <lambda>() takes 1 positional argument but 2 were given"
     ]
    }
   ],
   "source": [
    "reduce((lambda x:x),(2,3,4))"
   ]
  },
  {
   "cell_type": "markdown",
   "metadata": {},
   "source": [
    "## Test to see of initializing scrambled state is faster or not?"
   ]
  },
  {
   "cell_type": "code",
   "execution_count": 290,
   "metadata": {},
   "outputs": [
    {
     "name": "stdout",
     "output_type": "stream",
     "text": [
      "20.926964044570923\n"
     ]
    }
   ],
   "source": [
    "L=16\n",
    "qubits = qiskit.QuantumRegister(L)\n",
    "circ = qiskit.QuantumCircuit(qubits)\n",
    "for i in range(0,L,2):\n",
    "    circ.x(qubits[i])\n",
    "circ = evolution_utils.scramble(circ,qubits,t_scr=50,seed_scram=200)\n",
    "circ.save_statevector()\n",
    "backend = Aer.get_backend('aer_simulator')\n",
    "circ = qiskit.transpile(circ,backend=backend)\n",
    "start = time.time()\n",
    "for s in range(100):\n",
    "    job = qiskit.execute(circ,backend=backend,shots=1)\n",
    "print(time.time()-start)"
   ]
  },
  {
   "cell_type": "code",
   "execution_count": 291,
   "metadata": {},
   "outputs": [
    {
     "name": "stdout",
     "output_type": "stream",
     "text": [
      "80.85845494270325\n"
     ]
    }
   ],
   "source": [
    "qubits2 = qiskit.QuantumRegister(L)\n",
    "circ2 = qiskit.QuantumCircuit(qubits2)\n",
    "circ2.initialize(job.result().data()['statevector'],qubits2)\n",
    "backend = Aer.get_backend('aer_simulator')\n",
    "circ = qiskit.transpile(circ,backend=backend)\n",
    "\n",
    "start = time.time()\n",
    "for s in range(100):\n",
    "    job = qiskit.execute(circ2,backend=backend,shots=1)\n",
    "print(time.time()-start)"
   ]
  },
  {
   "cell_type": "markdown",
   "metadata": {},
   "source": [
    "#### Conclusion: Saving the scrambled state has no obvious benefits for large L"
   ]
  },
  {
   "cell_type": "code",
   "execution_count": null,
   "metadata": {},
   "outputs": [],
   "source": []
  }
 ],
 "metadata": {
  "kernelspec": {
   "display_name": "Python 3.9.13 ('base')",
   "language": "python",
   "name": "python3"
  },
  "language_info": {
   "codemirror_mode": {
    "name": "ipython",
    "version": 3
   },
   "file_extension": ".py",
   "mimetype": "text/x-python",
   "name": "python",
   "nbconvert_exporter": "python",
   "pygments_lexer": "ipython3",
   "version": "3.9.13"
  },
  "orig_nbformat": 4,
  "vscode": {
   "interpreter": {
    "hash": "46d4d6e35a705a453addec98352089b1c875d6193677971858623155cb10eb88"
   }
  }
 },
 "nbformat": 4,
 "nbformat_minor": 2
}

{
 "cells": [
  {
   "cell_type": "code",
   "execution_count": 1,
   "metadata": {},
   "outputs": [],
   "source": [
    "from qiskit_U_1_ancilla import *"
   ]
  },
  {
   "cell_type": "code",
   "execution_count": 2,
   "metadata": {},
   "outputs": [],
   "source": [
    "import numpy as np\n",
    "import time\n",
    "import matplotlib.pyplot as pl\n",
    "import entanglement"
   ]
  },
  {
   "cell_type": "code",
   "execution_count": 3,
   "metadata": {},
   "outputs": [],
   "source": [
    "def sharpening_entropy(L,depth_ratio,Q,p,samples,n=1,BC='PBC'):\n",
    "    T = depth_ratio*L\n",
    "    ent=[]\n",
    "    for seed in np.arange(1,samples+1,1):\n",
    "        job,outcomes,p_loc = run_circuit(L,T,Q,p,seed=seed,BC=BC)\n",
    "        state = job.result().data()['statevector']\n",
    "        ent.append(entanglement.renyi_entropy(np.asarray(state),sub_system=[L],renyi_index=n)) # ancilla index is L because in Qiskit the qubit #0 is at the right most end (in qiskit code ancilla is at position 0)\n",
    "    return job"
   ]
  },
  {
   "cell_type": "code",
   "execution_count": 4,
   "metadata": {},
   "outputs": [
    {
     "ename": "KeyError",
     "evalue": "'statevector'",
     "output_type": "error",
     "traceback": [
      "\u001b[0;31m---------------------------------------------------------------------------\u001b[0m",
      "\u001b[0;31mKeyError\u001b[0m                                  Traceback (most recent call last)",
      "\u001b[1;32m/Users/utkarshagrawal/Documents/Postdoc/U_1_haar/sharpening_data.ipynb Cell 4\u001b[0m in \u001b[0;36m<cell line: 1>\u001b[0;34m()\u001b[0m\n\u001b[0;32m----> <a href='vscode-notebook-cell:/Users/utkarshagrawal/Documents/Postdoc/U_1_haar/sharpening_data.ipynb#W3sZmlsZQ%3D%3D?line=0'>1</a>\u001b[0m job \u001b[39m=\u001b[39m sharpening_entropy(\u001b[39m8\u001b[39;49m,depth_ratio\u001b[39m=\u001b[39;49m\u001b[39m1\u001b[39;49m,Q\u001b[39m=\u001b[39;49m\u001b[39m4\u001b[39;49m,p\u001b[39m=\u001b[39;49m\u001b[39m0.05\u001b[39;49m,samples\u001b[39m=\u001b[39;49m\u001b[39m10\u001b[39;49m,n\u001b[39m=\u001b[39;49m\u001b[39m1\u001b[39;49m,BC\u001b[39m=\u001b[39;49m\u001b[39m'\u001b[39;49m\u001b[39mPBC\u001b[39;49m\u001b[39m'\u001b[39;49m)\n",
      "\u001b[1;32m/Users/utkarshagrawal/Documents/Postdoc/U_1_haar/sharpening_data.ipynb Cell 4\u001b[0m in \u001b[0;36msharpening_entropy\u001b[0;34m(L, depth_ratio, Q, p, samples, n, BC)\u001b[0m\n\u001b[1;32m      <a href='vscode-notebook-cell:/Users/utkarshagrawal/Documents/Postdoc/U_1_haar/sharpening_data.ipynb#W3sZmlsZQ%3D%3D?line=3'>4</a>\u001b[0m \u001b[39mfor\u001b[39;00m seed \u001b[39min\u001b[39;00m np\u001b[39m.\u001b[39marange(\u001b[39m1\u001b[39m,samples\u001b[39m+\u001b[39m\u001b[39m1\u001b[39m,\u001b[39m1\u001b[39m):\n\u001b[1;32m      <a href='vscode-notebook-cell:/Users/utkarshagrawal/Documents/Postdoc/U_1_haar/sharpening_data.ipynb#W3sZmlsZQ%3D%3D?line=4'>5</a>\u001b[0m     job,outcomes,p_loc \u001b[39m=\u001b[39m run_circuit(L,T,Q,p,seed\u001b[39m=\u001b[39mseed,BC\u001b[39m=\u001b[39mBC)\n\u001b[0;32m----> <a href='vscode-notebook-cell:/Users/utkarshagrawal/Documents/Postdoc/U_1_haar/sharpening_data.ipynb#W3sZmlsZQ%3D%3D?line=5'>6</a>\u001b[0m     state \u001b[39m=\u001b[39m job\u001b[39m.\u001b[39;49mresult()\u001b[39m.\u001b[39;49mdata()[\u001b[39m'\u001b[39;49m\u001b[39mstatevector\u001b[39;49m\u001b[39m'\u001b[39;49m]\n\u001b[1;32m      <a href='vscode-notebook-cell:/Users/utkarshagrawal/Documents/Postdoc/U_1_haar/sharpening_data.ipynb#W3sZmlsZQ%3D%3D?line=6'>7</a>\u001b[0m     ent\u001b[39m.\u001b[39mappend(entanglement\u001b[39m.\u001b[39mrenyi_entropy(np\u001b[39m.\u001b[39masarray(state),sub_system\u001b[39m=\u001b[39m[L],renyi_index\u001b[39m=\u001b[39mn)) \u001b[39m# ancilla index is L because in Qiskit the qubit #0 is at the right most end (in qiskit code ancilla is at position 0)\u001b[39;00m\n\u001b[1;32m      <a href='vscode-notebook-cell:/Users/utkarshagrawal/Documents/Postdoc/U_1_haar/sharpening_data.ipynb#W3sZmlsZQ%3D%3D?line=7'>8</a>\u001b[0m \u001b[39mreturn\u001b[39;00m job\n",
      "\u001b[0;31mKeyError\u001b[0m: 'statevector'"
     ]
    }
   ],
   "source": [
    "job = sharpening_entropy(8,depth_ratio=1,Q=4,p=0.05,samples=10,n=1,BC='PBC')\n"
   ]
  },
  {
   "cell_type": "code",
   "execution_count": 5,
   "metadata": {},
   "outputs": [
    {
     "ename": "NameError",
     "evalue": "name 'job' is not defined",
     "output_type": "error",
     "traceback": [
      "\u001b[0;31m---------------------------------------------------------------------------\u001b[0m",
      "\u001b[0;31mNameError\u001b[0m                                 Traceback (most recent call last)",
      "\u001b[1;32m/Users/utkarshagrawal/Documents/Postdoc/U_1_haar/sharpening_data.ipynb Cell 5\u001b[0m in \u001b[0;36m<cell line: 1>\u001b[0;34m()\u001b[0m\n\u001b[0;32m----> <a href='vscode-notebook-cell:/Users/utkarshagrawal/Documents/Postdoc/U_1_haar/sharpening_data.ipynb#W4sZmlsZQ%3D%3D?line=0'>1</a>\u001b[0m job\u001b[39m.\u001b[39mresult()\u001b[39m.\u001b[39mdata\n",
      "\u001b[0;31mNameError\u001b[0m: name 'job' is not defined"
     ]
    }
   ],
   "source": [
    "job.result().data"
   ]
  },
  {
   "cell_type": "code",
   "execution_count": null,
   "metadata": {},
   "outputs": [],
   "source": []
  }
 ],
 "metadata": {
  "kernelspec": {
   "display_name": "Python 3.9.13 ('base')",
   "language": "python",
   "name": "python3"
  },
  "language_info": {
   "codemirror_mode": {
    "name": "ipython",
    "version": 3
   },
   "file_extension": ".py",
   "mimetype": "text/x-python",
   "name": "python",
   "nbconvert_exporter": "python",
   "pygments_lexer": "ipython3",
   "version": "3.9.13"
  },
  "orig_nbformat": 4,
  "vscode": {
   "interpreter": {
    "hash": "46d4d6e35a705a453addec98352089b1c875d6193677971858623155cb10eb88"
   }
  }
 },
 "nbformat": 4,
 "nbformat_minor": 2
}
